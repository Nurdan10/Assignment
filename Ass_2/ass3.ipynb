{
 "cells": [
  {
   "cell_type": "code",
   "execution_count": null,
   "id": "9c283e94-a2fc-41cd-a889-42a782b7aaf5",
   "metadata": {},
   "outputs": [],
   "source": [
    "import numpy as np\n",
    "import pandas as pd\n",
    "import seaborn as sns\n",
    "import matplotlib.pyplot as plt\n",
    "from pandas.plotting import register_matplotlib_converters\n",
    "from collections import Counter\n",
    "from pylab import rcParams\n",
    "import re\n",
    "sns.set_style(\"darkgrid\")\n",
    "\n",
    "import warnings\n",
    "warnings.filterwarnings(\"ignore\")"
   ]
  },
  {
   "cell_type": "code",
   "execution_count": null,
   "id": "b504ab88-be16-4a58-b3bd-c1a0ccb32f8a",
   "metadata": {},
   "outputs": [],
   "source": [
    "import matplotlib\n",
    "print('matplotlib version: {}'.format(matplotlib.__version__))\n",
    "\n",
    "import seaborn\n",
    "print('seaborn version: {}'.format(seaborn.__version__))"
   ]
  },
  {
   "cell_type": "code",
   "execution_count": null,
   "id": "ae0a2405-9380-4346-a79a-c7c59f240ed1",
   "metadata": {},
   "outputs": [],
   "source": [
    "# with matplotlib\n",
    "gender = df.groupby(\"gender\")[\"gender\"].count()\n",
    "plt.figure(figsize=(6,6) )\n",
    "plt.bar( gender.index, gender)\n",
    "plt.title('Gender Distribution')\n",
    "for i, count in enumerate(gender):\n",
    "    plt.text(i, count, str(count), ha='center', va='bottom', fontsize=8)\n",
    "plt.xticks(rotation=45)\n",
    "plt.show()\n"
   ]
  },
  {
   "cell_type": "code",
   "execution_count": null,
   "id": "a33db25c-0565-4051-acd7-18a0f4632df0",
   "metadata": {},
   "outputs": [],
   "source": [
    "# with pandas\n",
    "\n",
    "gender.plot.bar()\n",
    "plt.xlabel('gender')\n",
    "plt.title('Gender Distribution', c='r', fontsize=13)\n",
    "for i, count in enumerate(gender):\n",
    "    plt.text(i, count, str(count), ha='center', va='bottom', fontsize=8)\n",
    "plt.xticks(rotation=90)  \n",
    "plt.show()"
   ]
  },
  {
   "cell_type": "code",
   "execution_count": null,
   "id": "2deb513f-8bbc-4275-aeed-2a81e0316d36",
   "metadata": {},
   "outputs": [],
   "source": [
    "fig, ax = plt.subplots(figsize=(8, 6))\n",
    "ax.bar(gender.index, gender)\n",
    "plt.xlabel('gender')\n",
    "plt.title('Gender Distribution', c='r')\n",
    "for i, count in enumerate(gender):\n",
    "    plt.text(i, count, str(count), ha='center', va='bottom', fontsize=8)\n",
    "plt.xticks(rotation=45)  # Eksen etiketlerini döndürmeyin\n",
    "plt.tight_layout()  # Grafiklerin sıkışık olmasını önlemek için\n",
    "plt.show()"
   ]
  },
  {
   "cell_type": "code",
   "execution_count": null,
   "id": "13a34c05-6896-4e08-bb44-e697463c7ad0",
   "metadata": {},
   "outputs": [],
   "source": [
    "eye = df.groupby(\"eye_color\")[\"eye_color\"].count()\n",
    "eye.index"
   ]
  },
  {
   "cell_type": "code",
   "execution_count": null,
   "id": "8cc36fbb-24c9-4029-9778-69a51df8ea05",
   "metadata": {},
   "outputs": [],
   "source": [
    "fig, ax = plt.subplots(figsize=(11, 6))\n",
    "ax.bar(eye.index, eye)\n",
    "for i, count in enumerate(eye):\n",
    "    plt.text(i, count, str(count), ha='center', va='bottom', fontsize=8)\n",
    "plt.xticks(rotation=90)\n",
    "plt.show()"
   ]
  },
  {
   "cell_type": "code",
   "execution_count": null,
   "id": "52580f1d-8390-448d-a4a3-58c76e022a74",
   "metadata": {},
   "outputs": [],
   "source": [
    "eye.plot.bar()\n",
    "plt.xlabel('eye_color')\n",
    "plt.title('eye_color', fontsize=13)\n",
    "for i, count in enumerate(eye):\n",
    "    plt.text(i, count, str(count), ha='center', va='bottom', fontsize=8)\n",
    "plt.xticks(rotation=90)  \n",
    "plt.show()"
   ]
  },
  {
   "cell_type": "code",
   "execution_count": null,
   "id": "506711e6-b7e6-4ac4-aa5f-023ec5994647",
   "metadata": {},
   "outputs": [],
   "source": [
    "eye.plot.bar()\n",
    "plt.xlabel('eye_color')\n",
    "plt.title('eye_color', fontsize=13)\n",
    "for i, count in enumerate(eye):\n",
    "    plt.text(i, count, str(count), ha='center', va='bottom', fontsize=8)\n",
    "plt.xticks(rotation=45)  \n",
    "plt.show()"
   ]
  },
  {
   "cell_type": "code",
   "execution_count": null,
   "id": "79cfd651-acbb-4f2e-a0de-2006b4885f5b",
   "metadata": {},
   "outputs": [],
   "source": [
    "df['mass_cat'] = pd.cut(df['mass'],\n",
    "                        bins=[-float('inf'), 50, 100, float('inf')],\n",
    "                        labels=['Low_mass', 'Normal_mass', 'High_mass'])\n",
    "df['mass_cat']"
   ]
  },
  {
   "cell_type": "code",
   "execution_count": null,
   "id": "46034d37-472c-4d2e-9d73-33871cf58092",
   "metadata": {},
   "outputs": [],
   "source": [
    "df['mass_cat'].value_counts(dropna=False)"
   ]
  },
  {
   "cell_type": "code",
   "execution_count": null,
   "id": "e63a7567-a7a0-4d5f-a5a0-cfaa183ed229",
   "metadata": {},
   "outputs": [],
   "source": [
    "# with pandas\n",
    "mass_cat = df['mass_cat'].value_counts()\n",
    "mass_cat.plot.bar()\n",
    "plt.xlabel('mass_cat')\n",
    "for i, count in enumerate(mass_cat):\n",
    "    plt.text(i, count, str(count), ha='center', va='bottom', fontsize=8)\n",
    "plt.xticks(rotation=90);\n"
   ]
  },
  {
   "cell_type": "code",
   "execution_count": null,
   "id": "7e6a423d-3e75-40dc-a7b9-dc558386a808",
   "metadata": {},
   "outputs": [],
   "source": []
  },
  {
   "cell_type": "code",
   "execution_count": null,
   "id": "ac169fe2-bf15-4596-b8a2-47bbb2a6d2a5",
   "metadata": {},
   "outputs": [],
   "source": [
    "\n",
    "species = df['species'].value_counts().head()\n",
    "species"
   ]
  },
  {
   "cell_type": "code",
   "execution_count": null,
   "id": "43e19b7c-7bcb-474a-a082-bd622ec0af48",
   "metadata": {},
   "outputs": [],
   "source": [
    "# with pandas\n",
    "species.plot.bar()\n",
    "plt.xlabel('species')\n",
    "plt.title('species', c='b', fontsize=14)\n",
    "for i, count in enumerate(species):\n",
    "    plt.text(i, count, str(count), ha='center', va='bottom', fontsize=8)\n",
    "plt.xticks(rotation=90);    "
   ]
  },
  {
   "cell_type": "code",
   "execution_count": null,
   "id": "a7d8a131-bb75-4d22-980a-6487469730b9",
   "metadata": {},
   "outputs": [],
   "source": [
    "# with matplotlib\n",
    "species = df['species'].value_counts().head()\n",
    "fig, ax = plt.subplots(figsize=(7, 5))\n",
    "ax.bar(species.index, species)\n",
    "for i, count in enumerate(species):\n",
    "    plt.text(i, count, str(count), ha='center', va='bottom', fontsize=8)\n",
    "plt.title('Species', c='b', fontsize=14)    \n",
    "plt.show()"
   ]
  }
 ],
 "metadata": {
  "kernelspec": {
   "display_name": "Python 3 (ipykernel)",
   "language": "python",
   "name": "python3"
  },
  "language_info": {
   "codemirror_mode": {
    "name": "ipython",
    "version": 3
   },
   "file_extension": ".py",
   "mimetype": "text/x-python",
   "name": "python",
   "nbconvert_exporter": "python",
   "pygments_lexer": "ipython3",
   "version": "3.11.7"
  }
 },
 "nbformat": 4,
 "nbformat_minor": 5
}
